{
 "cells": [
  {
   "cell_type": "markdown",
   "id": "89ecb213",
   "metadata": {},
   "source": [
    "## Final Project"
   ]
  },
  {
   "cell_type": "code",
   "execution_count": 4,
   "id": "0409dfe8",
   "metadata": {},
   "outputs": [],
   "source": [
    "import numpy as np\n",
    "import pandas as pd\n",
    "import pandas_datareader as pdr"
   ]
  },
  {
   "cell_type": "code",
   "execution_count": 5,
   "id": "5f496089",
   "metadata": {},
   "outputs": [],
   "source": [
    "l1=['PFE','LULU']"
   ]
  },
  {
   "cell_type": "code",
   "execution_count": 6,
   "id": "b9780069",
   "metadata": {},
   "outputs": [
    {
     "data": {
      "text/html": [
       "<div>\n",
       "<style scoped>\n",
       "    .dataframe tbody tr th:only-of-type {\n",
       "        vertical-align: middle;\n",
       "    }\n",
       "\n",
       "    .dataframe tbody tr th {\n",
       "        vertical-align: top;\n",
       "    }\n",
       "\n",
       "    .dataframe thead th {\n",
       "        text-align: right;\n",
       "    }\n",
       "</style>\n",
       "<table border=\"1\" class=\"dataframe\">\n",
       "  <thead>\n",
       "    <tr style=\"text-align: right;\">\n",
       "      <th>Symbols</th>\n",
       "      <th>PFE</th>\n",
       "      <th>LULU</th>\n",
       "    </tr>\n",
       "    <tr>\n",
       "      <th>Date</th>\n",
       "      <th></th>\n",
       "      <th></th>\n",
       "    </tr>\n",
       "  </thead>\n",
       "  <tbody>\n",
       "    <tr>\n",
       "      <th>2015-10-01</th>\n",
       "      <td>23.912664</td>\n",
       "      <td>50.279999</td>\n",
       "    </tr>\n",
       "    <tr>\n",
       "      <th>2015-10-02</th>\n",
       "      <td>24.843943</td>\n",
       "      <td>51.119999</td>\n",
       "    </tr>\n",
       "    <tr>\n",
       "      <th>2015-10-05</th>\n",
       "      <td>25.144354</td>\n",
       "      <td>51.270000</td>\n",
       "    </tr>\n",
       "    <tr>\n",
       "      <th>2015-10-06</th>\n",
       "      <td>24.626143</td>\n",
       "      <td>51.740002</td>\n",
       "    </tr>\n",
       "    <tr>\n",
       "      <th>2015-10-07</th>\n",
       "      <td>25.001656</td>\n",
       "      <td>54.000000</td>\n",
       "    </tr>\n",
       "    <tr>\n",
       "      <th>...</th>\n",
       "      <td>...</td>\n",
       "      <td>...</td>\n",
       "    </tr>\n",
       "    <tr>\n",
       "      <th>2021-10-25</th>\n",
       "      <td>42.774532</td>\n",
       "      <td>427.940002</td>\n",
       "    </tr>\n",
       "    <tr>\n",
       "      <th>2021-10-26</th>\n",
       "      <td>43.180965</td>\n",
       "      <td>432.730011</td>\n",
       "    </tr>\n",
       "    <tr>\n",
       "      <th>2021-10-27</th>\n",
       "      <td>42.596100</td>\n",
       "      <td>433.700012</td>\n",
       "    </tr>\n",
       "    <tr>\n",
       "      <th>2021-10-28</th>\n",
       "      <td>42.804272</td>\n",
       "      <td>443.459991</td>\n",
       "    </tr>\n",
       "    <tr>\n",
       "      <th>2021-10-29</th>\n",
       "      <td>43.359402</td>\n",
       "      <td>466.010010</td>\n",
       "    </tr>\n",
       "  </tbody>\n",
       "</table>\n",
       "<p>1532 rows × 2 columns</p>\n",
       "</div>"
      ],
      "text/plain": [
       "Symbols           PFE        LULU\n",
       "Date                             \n",
       "2015-10-01  23.912664   50.279999\n",
       "2015-10-02  24.843943   51.119999\n",
       "2015-10-05  25.144354   51.270000\n",
       "2015-10-06  24.626143   51.740002\n",
       "2015-10-07  25.001656   54.000000\n",
       "...               ...         ...\n",
       "2021-10-25  42.774532  427.940002\n",
       "2021-10-26  43.180965  432.730011\n",
       "2021-10-27  42.596100  433.700012\n",
       "2021-10-28  42.804272  443.459991\n",
       "2021-10-29  43.359402  466.010010\n",
       "\n",
       "[1532 rows x 2 columns]"
      ]
     },
     "execution_count": 6,
     "metadata": {},
     "output_type": "execute_result"
    }
   ],
   "source": [
    "df1 = pdr.get_data_yahoo(l1, start='2015-10-01',end='2021-10-31')['Adj Close']\n",
    "df1"
   ]
  },
  {
   "cell_type": "code",
   "execution_count": 7,
   "id": "7f1cf070",
   "metadata": {},
   "outputs": [
    {
     "data": {
      "text/html": [
       "<div>\n",
       "<style scoped>\n",
       "    .dataframe tbody tr th:only-of-type {\n",
       "        vertical-align: middle;\n",
       "    }\n",
       "\n",
       "    .dataframe tbody tr th {\n",
       "        vertical-align: top;\n",
       "    }\n",
       "\n",
       "    .dataframe thead th {\n",
       "        text-align: right;\n",
       "    }\n",
       "</style>\n",
       "<table border=\"1\" class=\"dataframe\">\n",
       "  <thead>\n",
       "    <tr style=\"text-align: right;\">\n",
       "      <th>Symbols</th>\n",
       "      <th>PFE</th>\n",
       "      <th>LULU</th>\n",
       "    </tr>\n",
       "    <tr>\n",
       "      <th>Date</th>\n",
       "      <th></th>\n",
       "      <th></th>\n",
       "    </tr>\n",
       "  </thead>\n",
       "  <tbody>\n",
       "    <tr>\n",
       "      <th>2015-10-01</th>\n",
       "      <td>NaN</td>\n",
       "      <td>NaN</td>\n",
       "    </tr>\n",
       "    <tr>\n",
       "      <th>2015-10-02</th>\n",
       "      <td>0.038206</td>\n",
       "      <td>0.016568</td>\n",
       "    </tr>\n",
       "    <tr>\n",
       "      <th>2015-10-05</th>\n",
       "      <td>0.012019</td>\n",
       "      <td>0.002930</td>\n",
       "    </tr>\n",
       "    <tr>\n",
       "      <th>2015-10-06</th>\n",
       "      <td>-0.020825</td>\n",
       "      <td>0.009125</td>\n",
       "    </tr>\n",
       "    <tr>\n",
       "      <th>2015-10-07</th>\n",
       "      <td>0.015133</td>\n",
       "      <td>0.042753</td>\n",
       "    </tr>\n",
       "    <tr>\n",
       "      <th>...</th>\n",
       "      <td>...</td>\n",
       "      <td>...</td>\n",
       "    </tr>\n",
       "    <tr>\n",
       "      <th>2021-10-25</th>\n",
       "      <td>-0.000232</td>\n",
       "      <td>0.014618</td>\n",
       "    </tr>\n",
       "    <tr>\n",
       "      <th>2021-10-26</th>\n",
       "      <td>0.009457</td>\n",
       "      <td>0.011131</td>\n",
       "    </tr>\n",
       "    <tr>\n",
       "      <th>2021-10-27</th>\n",
       "      <td>-0.013637</td>\n",
       "      <td>0.002239</td>\n",
       "    </tr>\n",
       "    <tr>\n",
       "      <th>2021-10-28</th>\n",
       "      <td>0.004875</td>\n",
       "      <td>0.022255</td>\n",
       "    </tr>\n",
       "    <tr>\n",
       "      <th>2021-10-29</th>\n",
       "      <td>0.012886</td>\n",
       "      <td>0.049600</td>\n",
       "    </tr>\n",
       "  </tbody>\n",
       "</table>\n",
       "<p>1532 rows × 2 columns</p>\n",
       "</div>"
      ],
      "text/plain": [
       "Symbols          PFE      LULU\n",
       "Date                          \n",
       "2015-10-01       NaN       NaN\n",
       "2015-10-02  0.038206  0.016568\n",
       "2015-10-05  0.012019  0.002930\n",
       "2015-10-06 -0.020825  0.009125\n",
       "2015-10-07  0.015133  0.042753\n",
       "...              ...       ...\n",
       "2021-10-25 -0.000232  0.014618\n",
       "2021-10-26  0.009457  0.011131\n",
       "2021-10-27 -0.013637  0.002239\n",
       "2021-10-28  0.004875  0.022255\n",
       "2021-10-29  0.012886  0.049600\n",
       "\n",
       "[1532 rows x 2 columns]"
      ]
     },
     "execution_count": 7,
     "metadata": {},
     "output_type": "execute_result"
    }
   ],
   "source": [
    "df2=np.log(df1/df1.shift(1))\n",
    "df2"
   ]
  },
  {
   "cell_type": "code",
   "execution_count": 8,
   "id": "68c1540a",
   "metadata": {},
   "outputs": [
    {
     "data": {
      "text/html": [
       "<div>\n",
       "<style scoped>\n",
       "    .dataframe tbody tr th:only-of-type {\n",
       "        vertical-align: middle;\n",
       "    }\n",
       "\n",
       "    .dataframe tbody tr th {\n",
       "        vertical-align: top;\n",
       "    }\n",
       "\n",
       "    .dataframe thead th {\n",
       "        text-align: right;\n",
       "    }\n",
       "</style>\n",
       "<table border=\"1\" class=\"dataframe\">\n",
       "  <thead>\n",
       "    <tr style=\"text-align: right;\">\n",
       "      <th>Symbols</th>\n",
       "      <th>PFE</th>\n",
       "      <th>LULU</th>\n",
       "    </tr>\n",
       "    <tr>\n",
       "      <th>Symbols</th>\n",
       "      <th></th>\n",
       "      <th></th>\n",
       "    </tr>\n",
       "  </thead>\n",
       "  <tbody>\n",
       "    <tr>\n",
       "      <th>PFE</th>\n",
       "      <td>0.048023</td>\n",
       "      <td>0.017374</td>\n",
       "    </tr>\n",
       "    <tr>\n",
       "      <th>LULU</th>\n",
       "      <td>0.017374</td>\n",
       "      <td>0.149983</td>\n",
       "    </tr>\n",
       "  </tbody>\n",
       "</table>\n",
       "</div>"
      ],
      "text/plain": [
       "Symbols       PFE      LULU\n",
       "Symbols                    \n",
       "PFE      0.048023  0.017374\n",
       "LULU     0.017374  0.149983"
      ]
     },
     "execution_count": 8,
     "metadata": {},
     "output_type": "execute_result"
    }
   ],
   "source": [
    "#covariance matrix, annualized\n",
    "cov=df2.cov()\n",
    "cov_ann=df2.cov()*250\n",
    "cov_ann"
   ]
  },
  {
   "cell_type": "code",
   "execution_count": 9,
   "id": "7813ad92",
   "metadata": {},
   "outputs": [
    {
     "data": {
      "text/plain": [
       "0.115837483860441"
      ]
     },
     "execution_count": 9,
     "metadata": {},
     "output_type": "execute_result"
    }
   ],
   "source": [
    "#beta\n",
    "beta = cov.iloc[0,1]/cov.iloc[1,1]\n",
    "beta"
   ]
  },
  {
   "cell_type": "code",
   "execution_count": 10,
   "id": "8418f31a",
   "metadata": {},
   "outputs": [
    {
     "data": {
      "text/plain": [
       "0.030791874193022054"
      ]
     },
     "execution_count": 10,
     "metadata": {},
     "output_type": "execute_result"
    }
   ],
   "source": [
    "#CAPM\n",
    "#10 year annualized government bond\n",
    "rf=0.025\n",
    "mkt_premium=0.05\n",
    "exp_return=rf+mkt_premium*beta\n",
    "exp_return"
   ]
  },
  {
   "cell_type": "code",
   "execution_count": 11,
   "id": "7f2f630d",
   "metadata": {},
   "outputs": [],
   "source": [
    "def capm(beta):\n",
    "    exp_return=0.025+0.05*beta\n",
    "    return round(exp_return,4)"
   ]
  },
  {
   "cell_type": "code",
   "execution_count": 12,
   "id": "87186922",
   "metadata": {},
   "outputs": [
    {
     "data": {
      "text/plain": [
       "0.0308"
      ]
     },
     "execution_count": 12,
     "metadata": {},
     "output_type": "execute_result"
    }
   ],
   "source": [
    "capm(beta)"
   ]
  },
  {
   "cell_type": "code",
   "execution_count": 16,
   "id": "45642c21",
   "metadata": {},
   "outputs": [
    {
     "data": {
      "text/plain": [
       "Symbols\n",
       "PFE     0.000389\n",
       "LULU    0.001454\n",
       "dtype: float64"
      ]
     },
     "execution_count": 16,
     "metadata": {},
     "output_type": "execute_result"
    }
   ],
   "source": [
    "#mean\n",
    "a1 = np.array([0.5,0.5])\n",
    "df2.mean()"
   ]
  },
  {
   "cell_type": "code",
   "execution_count": 17,
   "id": "bcdddabc",
   "metadata": {},
   "outputs": [
    {
     "data": {
      "text/plain": [
       "0.2303817033748383"
      ]
     },
     "execution_count": 17,
     "metadata": {},
     "output_type": "execute_result"
    }
   ],
   "source": [
    "#portfolio return, annualized\n",
    "np.dot(df2.mean(),a1)*250"
   ]
  },
  {
   "cell_type": "code",
   "execution_count": 18,
   "id": "5f702d9d",
   "metadata": {},
   "outputs": [],
   "source": [
    "#risk and return\n",
    "def return_risk_array(a1):\n",
    "    df=pd.DataFrame(data={'return':np.zeros(1),'std':np.zeros(1)})\n",
    "    df['return']=np.dot(df2.mean(),a1)*250\n",
    "    df['std']=np.dot(a1.T, np.dot(df2.cov()*250, a1))**0.5\n",
    "    return df"
   ]
  },
  {
   "cell_type": "code",
   "execution_count": 19,
   "id": "745010d5",
   "metadata": {},
   "outputs": [
    {
     "data": {
      "text/html": [
       "<div>\n",
       "<style scoped>\n",
       "    .dataframe tbody tr th:only-of-type {\n",
       "        vertical-align: middle;\n",
       "    }\n",
       "\n",
       "    .dataframe tbody tr th {\n",
       "        vertical-align: top;\n",
       "    }\n",
       "\n",
       "    .dataframe thead th {\n",
       "        text-align: right;\n",
       "    }\n",
       "</style>\n",
       "<table border=\"1\" class=\"dataframe\">\n",
       "  <thead>\n",
       "    <tr style=\"text-align: right;\">\n",
       "      <th></th>\n",
       "      <th>return</th>\n",
       "      <th>std</th>\n",
       "    </tr>\n",
       "  </thead>\n",
       "  <tbody>\n",
       "    <tr>\n",
       "      <th>0</th>\n",
       "      <td>0.230382</td>\n",
       "      <td>0.241222</td>\n",
       "    </tr>\n",
       "  </tbody>\n",
       "</table>\n",
       "</div>"
      ],
      "text/plain": [
       "     return       std\n",
       "0  0.230382  0.241222"
      ]
     },
     "execution_count": 19,
     "metadata": {},
     "output_type": "execute_result"
    }
   ],
   "source": [
    "return_risk_array(a1)"
   ]
  }
 ],
 "metadata": {
  "kernelspec": {
   "display_name": "Python 3",
   "language": "python",
   "name": "python3"
  },
  "language_info": {
   "codemirror_mode": {
    "name": "ipython",
    "version": 3
   },
   "file_extension": ".py",
   "mimetype": "text/x-python",
   "name": "python",
   "nbconvert_exporter": "python",
   "pygments_lexer": "ipython3",
   "version": "3.8.8"
  }
 },
 "nbformat": 4,
 "nbformat_minor": 5
}
