{
 "cells": [
  {
   "cell_type": "code",
   "execution_count": 21,
   "id": "bceba3a3-d96c-4bee-b4a0-920d6717805e",
   "metadata": {},
   "outputs": [],
   "source": [
    "from scipy import spatial\n",
    "import numpy as np\n",
    "import math\n",
    "import pandas as pd\n",
    "import geopandas as gpd\n",
    "import quadtree"
   ]
  },
  {
   "cell_type": "code",
   "execution_count": 22,
   "id": "bcb10a96-805d-47d0-bd4f-0e8e8642bedd",
   "metadata": {},
   "outputs": [],
   "source": [
    "df = pd.read_csv(\"starbucks_directory.csv\")\n",
    "\n",
    "gdf = gpd.GeoDataFrame(df, crs=\"EPSG:4326\", geometry=\n",
    "                    gpd.points_from_xy(x=df.Longitude, y=df.Latitude)).to_crs(\"EPSG:3395\")"
   ]
  },
  {
   "cell_type": "code",
   "execution_count": 23,
   "id": "5882f38e-792b-4ea7-9831-b78d2231f9a1",
   "metadata": {},
   "outputs": [
    {
     "data": {
      "text/plain": [
       "<AxesSubplot:>"
      ]
     },
     "execution_count": 23,
     "metadata": {},
     "output_type": "execute_result"
    },
    {
     "data": {
      "image/png": "[encoded data removed]",
      "text/plain": [
       "<Figure size 432x288 with 1 Axes>"
      ]
     },
     "metadata": {
      "needs_background": "light"
     },
     "output_type": "display_data"
    }
   ],
   "source": [
    "gdf.plot()"
   ]
  },
  {
   "cell_type": "code",
   "execution_count": 75,
   "id": "c2b55609-0d53-4de9-9525-a7034c6f5cf8",
   "metadata": {},
   "outputs": [],
   "source": [
    "from pyproj import Transformer\n",
    "transformer = Transformer.from_crs(\"epsg:4326\", \"epsg:3395\")\n",
    "U_OF_I = transformer.transform(40.638, -88.1341)\n",
    "\n",
    "search_radius = 5*10000*1.61 #1 mile"
   ]
  },
  {
   "cell_type": "code",
   "execution_count": 76,
   "id": "69832c87-f871-4dde-a131-e8be7e3383f1",
   "metadata": {},
   "outputs": [],
   "source": [
    "coords = np.array(list(zip(gdf.geometry.x,gdf.geometry.y)))"
   ]
  },
  {
   "cell_type": "code",
   "execution_count": 78,
   "id": "ad667ee1-1fe3-4963-a439-a98fcc5c8227",
   "metadata": {},
   "outputs": [],
   "source": [
    "tree = spatial.KDTree(coords)\n",
    "rslt_index_kd_tree = tree.query_ball_point(U_OF_I, search_radius)"
   ]
  },
  {
   "cell_type": "code",
   "execution_count": 79,
   "id": "5d279f92-b540-4247-9adb-0bff21baeed9",
   "metadata": {},
   "outputs": [
    {
     "data": {
      "text/plain": [
       "[17345, 17346, 17347, 17348, 17344, 17369, 17390]"
      ]
     },
     "execution_count": 79,
     "metadata": {},
     "output_type": "execute_result"
    }
   ],
   "source": [
    "rslt_index_kd_tree"
   ]
  },
  {
   "cell_type": "code",
   "execution_count": 80,
   "id": "bdc8498b-253d-4c7e-9e36-50419e790797",
   "metadata": {},
   "outputs": [
    {
     "data": {
      "text/html": [
       "<div>\n",
       "<style scoped>\n",
       "    .dataframe tbody tr th:only-of-type {\n",
       "        vertical-align: middle;\n",
       "    }\n",
       "\n",
       "    .dataframe tbody tr th {\n",
       "        vertical-align: top;\n",
       "    }\n",
       "\n",
       "    .dataframe thead th {\n",
       "        text-align: right;\n",
       "    }\n",
       "</style>\n",
       "<table border=\"1\" class=\"dataframe\">\n",
       "  <thead>\n",
       "    <tr style=\"text-align: right;\">\n",
       "      <th></th>\n",
       "      <th>Brand</th>\n",
       "      <th>Store Name</th>\n",
       "      <th>Street Address</th>\n",
       "      <th>City</th>\n",
       "      <th>State/Province</th>\n",
       "      <th>Country</th>\n",
       "      <th>Longitude</th>\n",
       "      <th>Latitude</th>\n",
       "      <th>geometry</th>\n",
       "    </tr>\n",
       "  </thead>\n",
       "  <tbody>\n",
       "    <tr>\n",
       "      <th>17345</th>\n",
       "      <td>Starbucks</td>\n",
       "      <td>Champaign - 5th &amp; Green</td>\n",
       "      <td>503 E. Green Street</td>\n",
       "      <td>Champaign</td>\n",
       "      <td>IL</td>\n",
       "      <td>US</td>\n",
       "      <td>-88.23</td>\n",
       "      <td>40.11</td>\n",
       "      <td>POINT (-9821718.673 4854406.278)</td>\n",
       "    </tr>\n",
       "    <tr>\n",
       "      <th>17346</th>\n",
       "      <td>Starbucks</td>\n",
       "      <td>University of Illinois-Illini Union</td>\n",
       "      <td>1401 W Green St</td>\n",
       "      <td>Urbana</td>\n",
       "      <td>IL</td>\n",
       "      <td>US</td>\n",
       "      <td>-88.23</td>\n",
       "      <td>40.11</td>\n",
       "      <td>POINT (-9821718.673 4854406.278)</td>\n",
       "    </tr>\n",
       "    <tr>\n",
       "      <th>17347</th>\n",
       "      <td>Starbucks</td>\n",
       "      <td>University of Illinois - Gregory St</td>\n",
       "      <td>701 S. GREGORY</td>\n",
       "      <td>URBANA</td>\n",
       "      <td>IL</td>\n",
       "      <td>US</td>\n",
       "      <td>-88.22</td>\n",
       "      <td>40.11</td>\n",
       "      <td>POINT (-9820605.478 4854406.278)</td>\n",
       "    </tr>\n",
       "    <tr>\n",
       "      <th>17348</th>\n",
       "      <td>Starbucks</td>\n",
       "      <td>Urbana-Main &amp; Vine</td>\n",
       "      <td>102 N Vine Street</td>\n",
       "      <td>Urbana</td>\n",
       "      <td>IL</td>\n",
       "      <td>US</td>\n",
       "      <td>-88.20</td>\n",
       "      <td>40.11</td>\n",
       "      <td>POINT (-9818379.088 4854406.278)</td>\n",
       "    </tr>\n",
       "    <tr>\n",
       "      <th>17344</th>\n",
       "      <td>Starbucks</td>\n",
       "      <td>Unv of Illinois Champaign-Bookstore</td>\n",
       "      <td>809 S Wright St</td>\n",
       "      <td>Champaign</td>\n",
       "      <td>IL</td>\n",
       "      <td>US</td>\n",
       "      <td>-88.23</td>\n",
       "      <td>40.11</td>\n",
       "      <td>POINT (-9821718.673 4854406.278)</td>\n",
       "    </tr>\n",
       "    <tr>\n",
       "      <th>17369</th>\n",
       "      <td>Teavana</td>\n",
       "      <td>Teavana - Market Place Mall</td>\n",
       "      <td>2000 N. Neil St., #375</td>\n",
       "      <td>Champaign</td>\n",
       "      <td>IL</td>\n",
       "      <td>US</td>\n",
       "      <td>-88.24</td>\n",
       "      <td>40.14</td>\n",
       "      <td>POINT (-9822831.868 4858756.660)</td>\n",
       "    </tr>\n",
       "    <tr>\n",
       "      <th>17390</th>\n",
       "      <td>Starbucks</td>\n",
       "      <td>Champaign - N Prospect Ave</td>\n",
       "      <td>2702 North Prospect</td>\n",
       "      <td>Champaign</td>\n",
       "      <td>IL</td>\n",
       "      <td>US</td>\n",
       "      <td>-88.26</td>\n",
       "      <td>40.15</td>\n",
       "      <td>POINT (-9825058.257 4860207.217)</td>\n",
       "    </tr>\n",
       "  </tbody>\n",
       "</table>\n",
       "</div>"
      ],
      "text/plain": [
       "           Brand                           Store Name          Street Address  \\\n",
       "17345  Starbucks              Champaign - 5th & Green     503 E. Green Street   \n",
       "17346  Starbucks  University of Illinois-Illini Union         1401 W Green St   \n",
       "17347  Starbucks  University of Illinois - Gregory St          701 S. GREGORY   \n",
       "17348  Starbucks                   Urbana-Main & Vine       102 N Vine Street   \n",
       "17344  Starbucks  Unv of Illinois Champaign-Bookstore         809 S Wright St   \n",
       "17369    Teavana          Teavana - Market Place Mall  2000 N. Neil St., #375   \n",
       "17390  Starbucks           Champaign - N Prospect Ave     2702 North Prospect   \n",
       "\n",
       "            City State/Province Country  Longitude  Latitude  \\\n",
       "17345  Champaign             IL      US     -88.23     40.11   \n",
       "17346     Urbana             IL      US     -88.23     40.11   \n",
       "17347     URBANA             IL      US     -88.22     40.11   \n",
       "17348     Urbana             IL      US     -88.20     40.11   \n",
       "17344  Champaign             IL      US     -88.23     40.11   \n",
       "17369  Champaign             IL      US     -88.24     40.14   \n",
       "17390  Champaign             IL      US     -88.26     40.15   \n",
       "\n",
       "                               geometry  \n",
       "17345  POINT (-9821718.673 4854406.278)  \n",
       "17346  POINT (-9821718.673 4854406.278)  \n",
       "17347  POINT (-9820605.478 4854406.278)  \n",
       "17348  POINT (-9818379.088 4854406.278)  \n",
       "17344  POINT (-9821718.673 4854406.278)  \n",
       "17369  POINT (-9822831.868 4858756.660)  \n",
       "17390  POINT (-9825058.257 4860207.217)  "
      ]
     },
     "execution_count": 80,
     "metadata": {},
     "output_type": "execute_result"
    }
   ],
   "source": [
    "gdf.iloc[rslt_index_kd_tree,]"
   ]
  },
  {
   "cell_type": "code",
   "execution_count": 82,
   "id": "c3353c35-a4e1-4644-80fd-8225821c29eb",
   "metadata": {},
   "outputs": [],
   "source": [
    "def eu_dist(pt_1, pt_2):\n",
    "    dist = math.sqrt(((pt_1[0]-pt_2[0])**2)+((pt_1[1]-pt_2[1])**2))\n",
    "    return dist\n",
    "\n",
    "def list_query(coords, pt, dist):\n",
    "    rslt = []\n",
    "    for i in range(len(coords)):\n",
    "        if eu_dist(coords[i], pt) <= dist:\n",
    "            rslt.append(i)\n",
    "    return rslt"
   ]
  },
  {
   "cell_type": "code",
   "execution_count": 83,
   "id": "1258b2c3-b977-46d2-80c8-39e28c2c1285",
   "metadata": {},
   "outputs": [],
   "source": [
    "rslt_index_list = list_query(coords,U_OF_I, search_radius)"
   ]
  },
  {
   "cell_type": "code",
   "execution_count": 84,
   "id": "b5b179fe-2c5b-4a2e-904d-abc53d638912",
   "metadata": {},
   "outputs": [
    {
     "data": {
      "text/html": [
       "<div>\n",
       "<style scoped>\n",
       "    .dataframe tbody tr th:only-of-type {\n",
       "        vertical-align: middle;\n",
       "    }\n",
       "\n",
       "    .dataframe tbody tr th {\n",
       "        vertical-align: top;\n",
       "    }\n",
       "\n",
       "    .dataframe thead th {\n",
       "        text-align: right;\n",
       "    }\n",
       "</style>\n",
       "<table border=\"1\" class=\"dataframe\">\n",
       "  <thead>\n",
       "    <tr style=\"text-align: right;\">\n",
       "      <th></th>\n",
       "      <th>Brand</th>\n",
       "      <th>Store Name</th>\n",
       "      <th>Street Address</th>\n",
       "      <th>City</th>\n",
       "      <th>State/Province</th>\n",
       "      <th>Country</th>\n",
       "      <th>Longitude</th>\n",
       "      <th>Latitude</th>\n",
       "      <th>geometry</th>\n",
       "    </tr>\n",
       "  </thead>\n",
       "  <tbody>\n",
       "    <tr>\n",
       "      <th>17344</th>\n",
       "      <td>Starbucks</td>\n",
       "      <td>Unv of Illinois Champaign-Bookstore</td>\n",
       "      <td>809 S Wright St</td>\n",
       "      <td>Champaign</td>\n",
       "      <td>IL</td>\n",
       "      <td>US</td>\n",
       "      <td>-88.23</td>\n",
       "      <td>40.11</td>\n",
       "      <td>POINT (-9821718.673 4854406.278)</td>\n",
       "    </tr>\n",
       "    <tr>\n",
       "      <th>17345</th>\n",
       "      <td>Starbucks</td>\n",
       "      <td>Champaign - 5th &amp; Green</td>\n",
       "      <td>503 E. Green Street</td>\n",
       "      <td>Champaign</td>\n",
       "      <td>IL</td>\n",
       "      <td>US</td>\n",
       "      <td>-88.23</td>\n",
       "      <td>40.11</td>\n",
       "      <td>POINT (-9821718.673 4854406.278)</td>\n",
       "    </tr>\n",
       "    <tr>\n",
       "      <th>17346</th>\n",
       "      <td>Starbucks</td>\n",
       "      <td>University of Illinois-Illini Union</td>\n",
       "      <td>1401 W Green St</td>\n",
       "      <td>Urbana</td>\n",
       "      <td>IL</td>\n",
       "      <td>US</td>\n",
       "      <td>-88.23</td>\n",
       "      <td>40.11</td>\n",
       "      <td>POINT (-9821718.673 4854406.278)</td>\n",
       "    </tr>\n",
       "    <tr>\n",
       "      <th>17347</th>\n",
       "      <td>Starbucks</td>\n",
       "      <td>University of Illinois - Gregory St</td>\n",
       "      <td>701 S. GREGORY</td>\n",
       "      <td>URBANA</td>\n",
       "      <td>IL</td>\n",
       "      <td>US</td>\n",
       "      <td>-88.22</td>\n",
       "      <td>40.11</td>\n",
       "      <td>POINT (-9820605.478 4854406.278)</td>\n",
       "    </tr>\n",
       "    <tr>\n",
       "      <th>17348</th>\n",
       "      <td>Starbucks</td>\n",
       "      <td>Urbana-Main &amp; Vine</td>\n",
       "      <td>102 N Vine Street</td>\n",
       "      <td>Urbana</td>\n",
       "      <td>IL</td>\n",
       "      <td>US</td>\n",
       "      <td>-88.20</td>\n",
       "      <td>40.11</td>\n",
       "      <td>POINT (-9818379.088 4854406.278)</td>\n",
       "    </tr>\n",
       "    <tr>\n",
       "      <th>17369</th>\n",
       "      <td>Teavana</td>\n",
       "      <td>Teavana - Market Place Mall</td>\n",
       "      <td>2000 N. Neil St., #375</td>\n",
       "      <td>Champaign</td>\n",
       "      <td>IL</td>\n",
       "      <td>US</td>\n",
       "      <td>-88.24</td>\n",
       "      <td>40.14</td>\n",
       "      <td>POINT (-9822831.868 4858756.660)</td>\n",
       "    </tr>\n",
       "    <tr>\n",
       "      <th>17390</th>\n",
       "      <td>Starbucks</td>\n",
       "      <td>Champaign - N Prospect Ave</td>\n",
       "      <td>2702 North Prospect</td>\n",
       "      <td>Champaign</td>\n",
       "      <td>IL</td>\n",
       "      <td>US</td>\n",
       "      <td>-88.26</td>\n",
       "      <td>40.15</td>\n",
       "      <td>POINT (-9825058.257 4860207.217)</td>\n",
       "    </tr>\n",
       "  </tbody>\n",
       "</table>\n",
       "</div>"
      ],
      "text/plain": [
       "           Brand                           Store Name          Street Address  \\\n",
       "17344  Starbucks  Unv of Illinois Champaign-Bookstore         809 S Wright St   \n",
       "17345  Starbucks              Champaign - 5th & Green     503 E. Green Street   \n",
       "17346  Starbucks  University of Illinois-Illini Union         1401 W Green St   \n",
       "17347  Starbucks  University of Illinois - Gregory St          701 S. GREGORY   \n",
       "17348  Starbucks                   Urbana-Main & Vine       102 N Vine Street   \n",
       "17369    Teavana          Teavana - Market Place Mall  2000 N. Neil St., #375   \n",
       "17390  Starbucks           Champaign - N Prospect Ave     2702 North Prospect   \n",
       "\n",
       "            City State/Province Country  Longitude  Latitude  \\\n",
       "17344  Champaign             IL      US     -88.23     40.11   \n",
       "17345  Champaign             IL      US     -88.23     40.11   \n",
       "17346     Urbana             IL      US     -88.23     40.11   \n",
       "17347     URBANA             IL      US     -88.22     40.11   \n",
       "17348     Urbana             IL      US     -88.20     40.11   \n",
       "17369  Champaign             IL      US     -88.24     40.14   \n",
       "17390  Champaign             IL      US     -88.26     40.15   \n",
       "\n",
       "                               geometry  \n",
       "17344  POINT (-9821718.673 4854406.278)  \n",
       "17345  POINT (-9821718.673 4854406.278)  \n",
       "17346  POINT (-9821718.673 4854406.278)  \n",
       "17347  POINT (-9820605.478 4854406.278)  \n",
       "17348  POINT (-9818379.088 4854406.278)  \n",
       "17369  POINT (-9822831.868 4858756.660)  \n",
       "17390  POINT (-9825058.257 4860207.217)  "
      ]
     },
     "execution_count": 84,
     "metadata": {},
     "output_type": "execute_result"
    }
   ],
   "source": [
    "gdf.iloc[rslt_index_list,]"
   ]
  },
  {
   "cell_type": "code",
   "execution_count": 89,
   "id": "28bce93d-7d9b-4d0c-8dce-ae9870a2d7c5",
   "metadata": {},
   "outputs": [
    {
     "data": {
      "text/plain": [
       "[(-9821718.672690528, 4854406.278179898): 'Unv of Illinois Champaign-Bookstore',\n",
       " (-9821718.672690528, 4854406.278179898): 'Champaign - 5th & Green',\n",
       " (-9821718.672690528, 4854406.278179898): 'University of Illinois-Illini Union',\n",
       " (-9820605.477782594, 4854406.278179898): 'University of Illinois - Gregory St',\n",
       " (-9818379.087966729, 4854406.278179898): 'Urbana-Main & Vine',\n",
       " (-9822831.86759846, 4858756.6599538345): 'Teavana - Market Place Mall',\n",
       " (-9825058.257414326, 4860207.217369193): 'Champaign - N Prospect Ave']"
      ]
     },
     "execution_count": 89,
     "metadata": {},
     "output_type": "execute_result"
    }
   ],
   "source": [
    "from quadtree import Point, Rect, QuadTree\n",
    "\n",
    "box = np.max(coords,axis=0) - np.min(coords,axis=0)\n",
    "center = np.mean(coords,axis=0)\n",
    "\n",
    "qtree = QuadTree(Rect(center[0], center[1], box[0], box[1]))\n",
    "\n",
    "for i in range(len(coords)):\n",
    "    point = Point(coords[i][0],coords[i][1],label=df[\"Store Name\"][i])\n",
    "    qtree.insert(point)\n",
    "\n",
    "qtree.query_radius(U_OF_I, search_radius, [])"
   ]
  },
  {
   "cell_type": "code",
   "execution_count": 90,
   "id": "7c8f759d-241f-451f-af21-a163770c7f92",
   "metadata": {},
   "outputs": [
    {
     "name": "stdout",
     "output_type": "stream",
     "text": [
      "36 ms ± 274 µs per loop (mean ± std. dev. of 7 runs, 10 loops each)\n"
     ]
    }
   ],
   "source": [
    "%timeit list_query(coords, U_OF_I, search_radius)"
   ]
  },
  {
   "cell_type": "code",
   "execution_count": 91,
   "id": "90352ff9-2323-4c1d-a364-c2f782567462",
   "metadata": {},
   "outputs": [
    {
     "name": "stdout",
     "output_type": "stream",
     "text": [
      "128 µs ± 292 ns per loop (mean ± std. dev. of 7 runs, 10,000 loops each)\n"
     ]
    }
   ],
   "source": [
    "%timeit qtree.query_radius(U_OF_I, search_radius, [])"
   ]
  },
  {
   "cell_type": "code",
   "execution_count": null,
   "id": "c28fff19-0092-4b0c-aa85-8a25efe9c237",
   "metadata": {},
   "outputs": [],
   "source": [
    "%timeit tree.query_ball_point(U_OF_I. search_radius)"
   ]
  }
 ],
 "metadata": {
  "kernelspec": {
   "display_name": "Python 3 (ipykernel)",
   "language": "python",
   "name": "python3"
  },
  "language_info": {
   "codemirror_mode": {
    "name": "ipython",
    "version": 3
   },
   "file_extension": ".py",
   "mimetype": "text/x-python",
   "name": "python",
   "nbconvert_exporter": "python",
   "pygments_lexer": "ipython3",
   "version": "3.9.13"
  }
 },
 "nbformat": 4,
 "nbformat_minor": 5
}
