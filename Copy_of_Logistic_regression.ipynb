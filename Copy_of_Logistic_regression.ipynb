{
  "nbformat": 4,
  "nbformat_minor": 0,
  "metadata": {
    "colab": {
      "provenance": [],
      "collapsed_sections": []
    },
    "kernelspec": {
      "name": "python3",
      "display_name": "Python 3"
    }
  },
  "cells": [
    {
      "cell_type": "code",
      "metadata": {
        "id": "uBJfGfCdcXjL"
      },
      "source": [
        "import jax.numpy as np\n",
        "import jax\n",
        "import matplotlib.pyplot as plt\n",
        "\n",
        "# Data\n",
        "x1 = np.array([0.5488135 , 0.71518937, 0.60276338, 0.54488318, 0.4236548 ,\n",
        "               0.64589411, 0.43758721, 0.891773  , 0.96366276, 0.38344152,\n",
        "               0.79172504, 0.52889492, 0.56804456, 0.92559664, 0.07103606,\n",
        "               0.0871293 , 0.0202184 , 0.83261985, 0.77815675, 0.87001215,\n",
        "               0.66676672, 0.67063787, 0.21038256, 0.1289263 , 0.31542835,\n",
        "               0.36371077, 0.57019677, 0.43860151, 0.98837384, 0.10204481,\n",
        "               0.20887676, 0.16130952, 0.65310833, 0.2532916 , 0.46631077,\n",
        "               0.24442559, 0.15896958, 0.11037514, 0.65632959, 0.13818295])\n",
        "\n",
        "x2 = np.array([-0.24999769, -0.75622102, -0.54014984, -0.71570233, -0.93425276,\n",
        "               -0.51517039, -0.26469997, -1.040206  , -0.50971184, -0.67431465,\n",
        "               -0.78257333, -0.56633169, -0.26148872, -0.63172488, -0.04004657,\n",
        "               -0.0114968 , -0.19777555, -1.22877914, -0.84773918, -0.83874235,\n",
        "               -1.76892774, -1.90676431, -1.21601901, -1.04325992, -1.30212491,\n",
        "               -1.30321639, -1.69706119, -1.51114975, -2.12286593, -1.17395544,\n",
        "               -1.37150601, -1.50656604, -1.6176231 , -1.33364779, -1.79235044,\n",
        "               -1.15186914, -1.34042926, -1.09998606, -1.51051148, -1.11238637])\n",
        "y = np.array([1., 1., 1., 1., 1., 1., 1., 1., 1., 1., 1., 1., 1., 1., 1., 1., 1.,\n",
        "              1., 1., 1., 0., 0., 0., 0., 0., 0., 0., 0., 0., 0., 0., 0., 0., 0.,\n",
        "              0., 0., 0., 0., 0., 0.])\n",
        "\n"
      ],
      "execution_count": null,
      "outputs": []
    },
    {
      "cell_type": "code",
      "metadata": {
        "id": "LM3UwDBzcpwo",
        "colab": {
          "base_uri": "https://localhost:8080/",
          "height": 283
        },
        "outputId": "9b357e17-7bef-42b9-9332-1ca1419a5f53"
      },
      "source": [
        "plt.scatter(x1, x2)"
      ],
      "execution_count": null,
      "outputs": [
        {
          "output_type": "execute_result",
          "data": {
            "text/plain": [
              "<matplotlib.collections.PathCollection at 0x7fc06f0a52d0>"
            ]
          },
          "metadata": {},
          "execution_count": 4
        },
        {
          "output_type": "display_data",
          "data": {
            "text/plain": [
              "<Figure size 432x288 with 1 Axes>"
            ],
            "image/png": "[encoded data removed]"
          },
          "metadata": {
            "needs_background": "light"
          }
        }
      ]
    },
    {
      "cell_type": "code",
      "metadata": {
        "id": "ZHuiFFyieMzG",
        "colab": {
          "base_uri": "https://localhost:8080/",
          "height": 283
        },
        "outputId": "2e3b7bbe-7f80-4c5f-b0dd-6c38ffd7446d"
      },
      "source": [
        "plt.scatter(x1[y==0], x2[y==0], color='r')\n",
        "plt.scatter(x1[y==1], x2[y==1], color='b')"
      ],
      "execution_count": null,
      "outputs": [
        {
          "output_type": "execute_result",
          "data": {
            "text/plain": [
              "<matplotlib.collections.PathCollection at 0x7fc06e9cce50>"
            ]
          },
          "metadata": {},
          "execution_count": 6
        },
        {
          "output_type": "display_data",
          "data": {
            "text/plain": [
              "<Figure size 432x288 with 1 Axes>"
            ],
            "image/png": "[encoded data removed]"
          },
          "metadata": {
            "needs_background": "light"
          }
        }
      ]
    },
    {
      "cell_type": "code",
      "metadata": {
        "id": "aeM4mmfMcnv_"
      },
      "source": [
        "ones = np.ones_like(x1)\n",
        "X = np.column_stack([ones, x1, x2])\n",
        "\n",
        "def p(X, Θ):\n",
        "  return jax.nn.sigmoid(X @ Θ)\n",
        "\n",
        "\n",
        "def distance(a, b):\n",
        "  from jax.scipy.special import xlogy\n",
        "  # return -b * np.log(a) -(1 - b) * np.log(1 - a)\n",
        "  return -xlogy(b, a) -xlogy(1 - b, 1 - a)\n",
        "\n",
        "@jax.jit\n",
        "def L(Θ):\n",
        "  return np.mean(distance(p(X, Θ), y))\n",
        "\n",
        "@jax.jit\n",
        "def apply_gradient_descent(Θ):\n",
        "  α = 1.\n",
        "  return Θ - α * jax.grad(L)(Θ)"
      ],
      "execution_count": null,
      "outputs": []
    },
    {
      "cell_type": "code",
      "metadata": {
        "id": "lRpIuxKwenIP",
        "colab": {
          "base_uri": "https://localhost:8080/"
        },
        "outputId": "486d5066-daa4-43c9-9e8e-9d239a53fe42"
      },
      "source": [
        "Θ = np.zeros(3)\n",
        "\n",
        "for iteration in range(400000):\n",
        "  Θ = apply_gradient_descent(Θ)\n",
        "\n",
        "  if iteration % 10000 == 0:\n",
        "    print(L(Θ))\n"
      ],
      "execution_count": null,
      "outputs": [
        {
          "output_type": "stream",
          "name": "stdout",
          "text": [
            "0.6501465\n",
            "0.004602221\n",
            "0.0025393295\n",
            "0.0017678969\n",
            "0.001360386\n",
            "0.0011076216\n",
            "0.00093509024\n",
            "0.0008097561\n",
            "0.00071435893\n",
            "0.00063929893\n",
            "0.00057870167\n",
            "0.0005287758\n",
            "0.0004868196\n",
            "0.00045117066\n",
            "0.0004204093\n",
            "0.00039362232\n",
            "0.00037004228\n",
            "0.00034930877\n",
            "0.00033072205\n",
            "0.00031405638\n",
            "0.00029904905\n",
            "0.00028521763\n",
            "0.00027289853\n",
            "0.00026136884\n",
            "0.00025097412\n",
            "0.0002415047\n",
            "0.00023275129\n",
            "0.00022449861\n",
            "0.00021654987\n",
            "0.00020917016\n",
            "0.00020237608\n",
            "0.00019632527\n",
            "0.00019063818\n",
            "0.00018511718\n",
            "0.00017976381\n",
            "0.00017468473\n",
            "0.00016988577\n",
            "0.00016531794\n",
            "0.00016097887\n",
            "0.0001570657\n"
          ]
        }
      ]
    },
    {
      "cell_type": "code",
      "source": [
        "plt.scatter(x1[y==0], x2[y==0], color='r')\n",
        "plt.scatter(x1[y==1], x2[y==1], color='b')\n",
        "x2_decision_bndry = -1 / Θ[2] * (Θ[0] + Θ[1] * x1)\n",
        "plt.plot(x1, x2_decision_bndry, color='k')"
      ],
      "metadata": {
        "colab": {
          "base_uri": "https://localhost:8080/",
          "height": 283
        },
        "id": "UbGPRon8EAv8",
        "outputId": "2620cabc-9a67-4422-8ca4-d5ec2b4c54da"
      },
      "execution_count": null,
      "outputs": [
        {
          "output_type": "execute_result",
          "data": {
            "text/plain": [
              "[<matplotlib.lines.Line2D at 0x7fc063cba1d0>]"
            ]
          },
          "metadata": {},
          "execution_count": 31
        },
        {
          "output_type": "display_data",
          "data": {
            "text/plain": [
              "<Figure size 432x288 with 1 Axes>"
            ],
            "image/png": "[encoded data removed]"
          },
          "metadata": {
            "needs_background": "light"
          }
        }
      ]
    },
    {
      "cell_type": "code",
      "source": [
        "p(X, Θ)"
      ],
      "metadata": {
        "colab": {
          "base_uri": "https://localhost:8080/"
        },
        "id": "Vv0mpVEqH1iA",
        "outputId": "5a311282-8dc2-49ad-d482-25d530e6f220"
      },
      "execution_count": null,
      "outputs": [
        {
          "output_type": "execute_result",
          "data": {
            "text/plain": [
              "DeviceArray([1.00000000e+00, 1.00000000e+00, 1.00000000e+00,\n",
              "             1.00000000e+00, 9.96982157e-01, 1.00000000e+00,\n",
              "             1.00000000e+00, 1.00000000e+00, 1.00000000e+00,\n",
              "             9.99998689e-01, 1.00000000e+00, 1.00000000e+00,\n",
              "             1.00000000e+00, 1.00000000e+00, 1.00000000e+00,\n",
              "             1.00000000e+00, 1.00000000e+00, 9.99769509e-01,\n",
              "             1.00000000e+00, 1.00000000e+00, 1.90783751e-07,\n",
              "             1.83435767e-09, 2.50761132e-05, 7.74927903e-04,\n",
              "             3.38475038e-05, 1.46953724e-04, 1.12539134e-07,\n",
              "             1.14778197e-06, 2.10539834e-08, 3.65717119e-06,\n",
              "             1.10755607e-07, 2.35585940e-10, 2.32921957e-05,\n",
              "             1.63859215e-06, 1.63400210e-10, 6.65771193e-04,\n",
              "             6.83680810e-08, 6.11731375e-05, 1.04374939e-03,\n",
              "             9.48603411e-05], dtype=float32)"
            ]
          },
          "metadata": {},
          "execution_count": 33
        }
      ]
    },
    {
      "cell_type": "code",
      "source": [
        "predictions = (p(X, Θ) > 0.5) * 1\n",
        "predictions"
      ],
      "metadata": {
        "colab": {
          "base_uri": "https://localhost:8080/"
        },
        "id": "R1QOC3L5G3ts",
        "outputId": "b462cddf-3c82-4d18-8af2-a2f6e9aa949d"
      },
      "execution_count": null,
      "outputs": [
        {
          "output_type": "execute_result",
          "data": {
            "text/plain": [
              "DeviceArray([1, 1, 1, 1, 1, 1, 1, 1, 1, 1, 1, 1, 1, 1, 1, 1, 1, 1, 1, 1,\n",
              "             0, 0, 0, 0, 0, 0, 0, 0, 0, 0, 0, 0, 0, 0, 0, 0, 0, 0, 0, 0],            dtype=int32, weak_type=True)"
            ]
          },
          "metadata": {},
          "execution_count": 36
        }
      ]
    },
    {
      "cell_type": "code",
      "source": [
        "accuracy = (predictions == y).mean()\n",
        "print(accuracy)"
      ],
      "metadata": {
        "colab": {
          "base_uri": "https://localhost:8080/"
        },
        "id": "bjTtLP4VIDQe",
        "outputId": "d3df96b1-fab0-4bb1-d4dc-c693cdc8b9d6"
      },
      "execution_count": null,
      "outputs": [
        {
          "output_type": "stream",
          "name": "stdout",
          "text": [
            "1.0\n"
          ]
        }
      ]
    },
    {
      "cell_type": "code",
      "source": [],
      "metadata": {
        "id": "w1Pr_7wGJHhH"
      },
      "execution_count": null,
      "outputs": []
    }
  ]
}