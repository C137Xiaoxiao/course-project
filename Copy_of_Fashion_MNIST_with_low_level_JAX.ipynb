{
  "nbformat": 4,
  "nbformat_minor": 0,
  "metadata": {
    "colab": {
      "provenance": [],
      "collapsed_sections": []
    },
    "kernelspec": {
      "name": "python3",
      "display_name": "Python 3"
    },
    "language_info": {
      "name": "python"
    },
    "accelerator": "GPU",
    "gpuClass": "premium"
  },
  "cells": [
    {
      "cell_type": "code",
      "source": [
        "pip install -q optax dm-haiku"
      ],
      "metadata": {
        "colab": {
          "base_uri": "https://localhost:8080/"
        },
        "id": "NBaRgnJL8is9",
        "outputId": "06bbbef4-065d-446b-fb7a-830a992ea439"
      },
      "execution_count": null,
      "outputs": [
        {
          "output_type": "stream",
          "name": "stdout",
          "text": [
            "\u001b[K     |████████████████████████████████| 145 kB 4.2 MB/s \n",
            "\u001b[K     |████████████████████████████████| 350 kB 46.6 MB/s \n",
            "\u001b[K     |████████████████████████████████| 85 kB 3.7 MB/s \n",
            "\u001b[?25h"
          ]
        }
      ]
    },
    {
      "cell_type": "code",
      "source": [
        "!wget https://www.dropbox.com/s/a5t4txdgkys6rob/X.npy?dl=0;\n",
        "!wget https://www.dropbox.com/s/jqmqptvtlg1lnf1/y.npy?dl=0;\n",
        "!mv X.npy?dl=0 X.npy; mv y.npy?dl=0 y.npy;"
      ],
      "metadata": {
        "colab": {
          "base_uri": "https://localhost:8080/"
        },
        "id": "Zbe6VAcK8rFc",
        "outputId": "c4e53c6f-8a7e-430c-c1d4-9642d9390804"
      },
      "execution_count": null,
      "outputs": [
        {
          "output_type": "stream",
          "name": "stdout",
          "text": [
            "--2022-10-20 13:10:30--  https://www.dropbox.com/s/a5t4txdgkys6rob/X.npy?dl=0\n",
            "Resolving www.dropbox.com (www.dropbox.com)... 162.125.80.18, 2620:100:6035:18::a27d:5512\n",
            "Connecting to www.dropbox.com (www.dropbox.com)|162.125.80.18|:443... connected.\n",
            "HTTP request sent, awaiting response... 302 Found\n",
            "Location: /s/raw/a5t4txdgkys6rob/X.npy [following]\n",
            "--2022-10-20 13:10:30--  https://www.dropbox.com/s/raw/a5t4txdgkys6rob/X.npy\n",
            "Reusing existing connection to www.dropbox.com:443.\n",
            "HTTP request sent, awaiting response... 302 Found\n",
            "Location: https://uc65ef26ad0b25fa69d78d4525f8.dl.dropboxusercontent.com/cd/0/inline/BvK4XOs-UYgjqrYyXqRYGCg5VfoykKep6tUrFVJz08QPKHhp2vVd2tMVZXlyhS_g2W4BLMaqD3JfdBRb_-SoWVh9jGPplfP5yrCsDuMmGtqFpKFX4Nl08ZtWD-emY7IYz0_tKkVfUn3MZ79iwkShOPJhypGcUyWX1UQJAEv7mSY3Xw/file# [following]\n",
            "--2022-10-20 13:10:31--  https://uc65ef26ad0b25fa69d78d4525f8.dl.dropboxusercontent.com/cd/0/inline/BvK4XOs-UYgjqrYyXqRYGCg5VfoykKep6tUrFVJz08QPKHhp2vVd2tMVZXlyhS_g2W4BLMaqD3JfdBRb_-SoWVh9jGPplfP5yrCsDuMmGtqFpKFX4Nl08ZtWD-emY7IYz0_tKkVfUn3MZ79iwkShOPJhypGcUyWX1UQJAEv7mSY3Xw/file\n",
            "Resolving uc65ef26ad0b25fa69d78d4525f8.dl.dropboxusercontent.com (uc65ef26ad0b25fa69d78d4525f8.dl.dropboxusercontent.com)... 162.125.80.15, 2620:100:6035:15::a27d:550f\n",
            "Connecting to uc65ef26ad0b25fa69d78d4525f8.dl.dropboxusercontent.com (uc65ef26ad0b25fa69d78d4525f8.dl.dropboxusercontent.com)|162.125.80.15|:443... connected.\n",
            "HTTP request sent, awaiting response... 302 Found\n",
            "Location: /cd/0/inline2/BvICmpVxgyTQiSvoVjJQvw_l5v6oSvWRZbeqyJ0eLCsd3XVTQxXIqD_4v7fgxxhcz2LwWVD8bDSsUX6hU2YK1V3herV5WUhsTfE4sj9r0KqA091oVSbkk10xHNotvUEu04vFJqhg_aD03nvvrGW80wzulI9Y6Zz9qIMX82ggcjL51w-bXnVn0fqdBv6n1s0HAELTDCptoElq9ZXXSzQXH1DZug8C5PC6mM0QJXp9VmUnVrvuu4gGfItXp1_Vx2sNSaWqTzRZBV3UX4GznF6y5l3G0ZHT8W-N_hFp4blGyimBBNQnMXBehTyQbLyL-PApBEG5KKm31FyuvRHr1j-eaQKiK4HN9y1q73BF_ERU_ONDISTEaANCwJ8tzURdhxsNcOegDUkdQyrXEA1KaZwjOLISDiq6CBAyoQiZfYjg1HC9lw/file [following]\n",
            "--2022-10-20 13:10:32--  https://uc65ef26ad0b25fa69d78d4525f8.dl.dropboxusercontent.com/cd/0/inline2/BvICmpVxgyTQiSvoVjJQvw_l5v6oSvWRZbeqyJ0eLCsd3XVTQxXIqD_4v7fgxxhcz2LwWVD8bDSsUX6hU2YK1V3herV5WUhsTfE4sj9r0KqA091oVSbkk10xHNotvUEu04vFJqhg_aD03nvvrGW80wzulI9Y6Zz9qIMX82ggcjL51w-bXnVn0fqdBv6n1s0HAELTDCptoElq9ZXXSzQXH1DZug8C5PC6mM0QJXp9VmUnVrvuu4gGfItXp1_Vx2sNSaWqTzRZBV3UX4GznF6y5l3G0ZHT8W-N_hFp4blGyimBBNQnMXBehTyQbLyL-PApBEG5KKm31FyuvRHr1j-eaQKiK4HN9y1q73BF_ERU_ONDISTEaANCwJ8tzURdhxsNcOegDUkdQyrXEA1KaZwjOLISDiq6CBAyoQiZfYjg1HC9lw/file\n",
            "Reusing existing connection to uc65ef26ad0b25fa69d78d4525f8.dl.dropboxusercontent.com:443.\n",
            "HTTP request sent, awaiting response... 200 OK\n",
            "Length: 376320128 (359M) [application/octet-stream]\n",
            "Saving to: ‘X.npy?dl=0’\n",
            "\n",
            "X.npy?dl=0          100%[===================>] 358.89M  30.4MB/s    in 12s     \n",
            "\n",
            "2022-10-20 13:10:45 (28.8 MB/s) - ‘X.npy?dl=0’ saved [376320128/376320128]\n",
            "\n",
            "--2022-10-20 13:10:45--  https://www.dropbox.com/s/jqmqptvtlg1lnf1/y.npy?dl=0\n",
            "Resolving www.dropbox.com (www.dropbox.com)... 162.125.80.18, 2620:100:6035:18::a27d:5512\n",
            "Connecting to www.dropbox.com (www.dropbox.com)|162.125.80.18|:443... connected.\n",
            "HTTP request sent, awaiting response... 302 Found\n",
            "Location: /s/raw/jqmqptvtlg1lnf1/y.npy [following]\n",
            "--2022-10-20 13:10:45--  https://www.dropbox.com/s/raw/jqmqptvtlg1lnf1/y.npy\n",
            "Reusing existing connection to www.dropbox.com:443.\n",
            "HTTP request sent, awaiting response... 302 Found\n",
            "Location: https://uc87444245a73ca7d10bb563a6cb.dl.dropboxusercontent.com/cd/0/inline/BvKzmkU5w4Z4H74V7PpexlH-wOmKm9T9EnxWsr1ibPQb32eGHy7rJvjMtEgRlG6PMLzaNIexyZxrLIREOlGHIO33RidJXMXKOR8yhLWh86zeQ_wwhdHaEB3bUzvahXWHQXs97eupcnVeOCe8TBg70aVkl7P2JapfAQ-n-NtdjjlFvQ/file# [following]\n",
            "--2022-10-20 13:10:46--  https://uc87444245a73ca7d10bb563a6cb.dl.dropboxusercontent.com/cd/0/inline/BvKzmkU5w4Z4H74V7PpexlH-wOmKm9T9EnxWsr1ibPQb32eGHy7rJvjMtEgRlG6PMLzaNIexyZxrLIREOlGHIO33RidJXMXKOR8yhLWh86zeQ_wwhdHaEB3bUzvahXWHQXs97eupcnVeOCe8TBg70aVkl7P2JapfAQ-n-NtdjjlFvQ/file\n",
            "Resolving uc87444245a73ca7d10bb563a6cb.dl.dropboxusercontent.com (uc87444245a73ca7d10bb563a6cb.dl.dropboxusercontent.com)... 162.125.80.15, 2620:100:6035:15::a27d:550f\n",
            "Connecting to uc87444245a73ca7d10bb563a6cb.dl.dropboxusercontent.com (uc87444245a73ca7d10bb563a6cb.dl.dropboxusercontent.com)|162.125.80.15|:443... connected.\n",
            "HTTP request sent, awaiting response... 200 OK\n",
            "Length: 4800128 (4.6M) [text/plain]\n",
            "Saving to: ‘y.npy?dl=0’\n",
            "\n",
            "y.npy?dl=0          100%[===================>]   4.58M  9.63MB/s    in 0.5s    \n",
            "\n",
            "2022-10-20 13:10:47 (9.63 MB/s) - ‘y.npy?dl=0’ saved [4800128/4800128]\n",
            "\n"
          ]
        }
      ]
    },
    {
      "cell_type": "code",
      "source": [
        "import jax.numpy as jnp\n",
        "import matplotlib.pyplot as plt\n",
        "import optax\n",
        "import jax\n",
        "import haiku as hk\n",
        "rng = jax.random.PRNGKey(0)\n",
        "\n",
        "X = jnp.load('X.npy')\n",
        "y = jnp.load('y.npy')\n",
        "\n",
        "class_names = ['T-shirt/top',  # 0\n",
        "               'Trouser',      # 1\n",
        "               'Pullover',     # 2\n",
        "               'Dress',        # 3\n",
        "               'Coat',         # 4\n",
        "               'Sandal',       # 5\n",
        "               'Shirt',        # 6\n",
        "               'Sneaker',      # 7\n",
        "               'Bag',          # 8\n",
        "               'Ankle boot']   # 9\n",
        "\n",
        "plt.matshow(X[100].reshape(28, 28))\n",
        "print(y[100])"
      ],
      "metadata": {
        "colab": {
          "base_uri": "https://localhost:8080/"
        },
        "id": "kM1u16Nt8jvk",
        "outputId": "67d04d9c-8fd8-492f-e7fc-9005e932b2fd"
      },
      "execution_count": null,
      "outputs": [
        {
          "output_type": "stream",
          "name": "stdout",
          "text": [
            "[0. 0. 0. 0. 0. 0. 0. 0. 1. 0.]\n"
          ]
        },
        {
          "output_type": "display_data",
          "data": {
            "text/plain": [
              "<Figure size 288x288 with 1 Axes>"
            ],
            "image/png": "[encoded data removed]"
          },
          "metadata": {
            "needs_background": "light"
          }
        }
      ]
    },
    {
      "cell_type": "code",
      "source": [],
      "metadata": {
        "id": "yLvP5TiY8xwK"
      },
      "execution_count": null,
      "outputs": []
    },
    {
      "cell_type": "code",
      "source": [],
      "metadata": {
        "id": "n5zmYzA3809p"
      },
      "execution_count": null,
      "outputs": []
    }
  ]
}